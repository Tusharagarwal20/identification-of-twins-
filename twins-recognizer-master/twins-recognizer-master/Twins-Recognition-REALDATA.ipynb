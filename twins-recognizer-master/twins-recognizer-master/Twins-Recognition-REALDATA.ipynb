{
 "cells": [
  {
   "cell_type": "code",
   "execution_count": null,
   "metadata": {},
   "outputs": [],
   "source": [
    "%env LD_LIBRARY_PATH /usr/local/cuda-10.0/lib64/\n",
    "\n",
    "%load_ext autoreload\n",
    "%autoreload 2"
   ]
  },
  {
   "cell_type": "code",
   "execution_count": null,
   "metadata": {},
   "outputs": [],
   "source": [
    "import os\n",
    "from keras import backend as K\n",
    "import tensorflow as tf\n",
    "import keras as ks\n",
    "from keras.preprocessing.image import ImageDataGenerator\n",
    "import matplotlib.pyplot as plt\n",
    "from keras import layers\n",
    "from keras import models\n",
    "from keras.preprocessing import image\n",
    "import numpy as np\n",
    "from keras import optimizers\n",
    "from keras import callbacks\n",
    "import matplotlib.pyplot as plt\n",
    "from notebook_utils import *\n",
    "from visualize_layer import *\n",
    "\n",
    "tf.compat.v1.logging.set_verbosity(tf.compat.v1.logging.ERROR)\n",
    "\n",
    "config = tf.ConfigProto(log_device_placement=True)\n",
    "config.gpu_options.allow_growth=True\n",
    "sess = tf.Session(config=config)\n",
    "K.set_session(sess)\n",
    "\n",
    "if tf.test.gpu_device_name():\n",
    " print(\"Default GPU Device: {}\".format(tf.test.gpu_device_name()))\n",
    "else:\n",
    " print(\"GPU not working\")"
   ]
  },
  {
   "cell_type": "code",
   "execution_count": null,
   "metadata": {},
   "outputs": [],
   "source": [
    "base_dir = '/home/benoitpatra/code/twins-recognizer/data/sets'\n",
    "\n",
    "TRAIN_DIR = os.path.join(base_dir, 'train')\n",
    "VAL_DIR = os.path.join(base_dir, 'validation')\n",
    "TEST_DIR = os.path.join(base_dir, 'test')\n",
    "\n",
    "TARGET_SIZE = 160\n",
    "BATCH_SIZE = 10\n",
    "TRAIN_SET_SIZE=600\n",
    "steps_per_epoch= TRAIN_SET_SIZE // BATCH_SIZE"
   ]
  },
  {
   "cell_type": "code",
   "execution_count": null,
   "metadata": {},
   "outputs": [],
   "source": [
    "## Define TRAINING SET\n",
    "train_datagen =  ImageDataGenerator(rescale=1./255, rotation_range=0.4,\n",
    "                              width_shift_range=0.2,\n",
    "                              height_shift_range=0.2,\n",
    "                              shear_range=0.2,\n",
    "                              zoom_range=0.2,\n",
    "                              horizontal_flip=True, fill_mode='nearest')\n",
    "\n",
    "\n",
    "train_generator = train_datagen.flow_from_directory(TRAIN_DIR, \n",
    "                                                    target_size=(TARGET_SIZE, TARGET_SIZE), \n",
    "                                                    batch_size = BATCH_SIZE, \n",
    "                                                    class_mode='binary')"
   ]
  },
  {
   "cell_type": "code",
   "execution_count": null,
   "metadata": {},
   "outputs": [],
   "source": [
    "## Define VALIDATION SET\n",
    "validation_datagen = ImageDataGenerator(rescale=1./255)\n",
    "validation_generator = validation_datagen.flow_from_directory(VAL_DIR, \n",
    "                                                    target_size=(TARGET_SIZE, TARGET_SIZE), \n",
    "                                                    batch_size = BATCH_SIZE, \n",
    "                                                    class_mode='binary')"
   ]
  },
  {
   "cell_type": "code",
   "execution_count": null,
   "metadata": {},
   "outputs": [],
   "source": [
    "img = next(train_generator)\n",
    "print(\"Sample from generator\")\n",
    "print_image_from_gen(img[0][0,:,:,:])\n",
    "print(f\"It's {getName(img[1][0])}\")"
   ]
  },
  {
   "cell_type": "code",
   "execution_count": null,
   "metadata": {},
   "outputs": [],
   "source": [
    "def train_and_validate_model(model, epochs):\n",
    "    \n",
    "    callback_list = [\n",
    "        callbacks.ModelCheckpoint(\n",
    "            filepath=\"resnet_landj_bestof2_20200426.h5\",\n",
    "            monitor=\"val_acc\",\n",
    "            mode=\"max\",\n",
    "            verbose=1,\n",
    "            save_best_only=True),\n",
    "        callbacks.TensorBoard(\n",
    "            log_dir=\"tf_log_dir\",\n",
    "            histogram_freq=0,\n",
    "            update_freq='epoch',\n",
    "            write_graph=True, \n",
    "            write_images=False\n",
    "        )\n",
    "    ]\n",
    "    \n",
    "    t1 = time()\n",
    "    model.compile(loss='binary_crossentropy', optimizer=optimizers.RMSprop(lr=1e-4), metrics=['acc'])\n",
    "    history = model.fit_generator(train_generator, steps_per_epoch=steps_per_epoch, epochs=epochs, validation_data=validation_generator, validation_steps=50, callbacks=callback_list)\n",
    "    t2 = time()\n",
    "    elapsed = t2 - t1\n",
    "    print('Elapsed time is %f seconds.' % elapsed)\n",
    "    plot_history2(model.history)"
   ]
  },
  {
   "cell_type": "code",
   "execution_count": null,
   "metadata": {},
   "outputs": [],
   "source": [
    "from inception_resnet_v1 import *\n",
    "\n",
    "def res_net(pretrained_weights):\n",
    "    model = InceptionResNetV1()\n",
    "\n",
    "    if pretrained_weights == True :\n",
    "        #pre-trained weights https://drive.google.com/file/d/1971Xk5RwedbudGgTIrGAL4F7Aifu7id1/view?usp=sharing\n",
    "        model.load_weights('facenet_weights.h5')\n",
    "    \n",
    "    new_model = models.Sequential()\n",
    "    new_model.add(model)\n",
    "    new_model.add(layers.Dense(256, activation='relu'))\n",
    "    new_model.add(layers.Dropout(0.5))\n",
    "    new_model.add(layers.Dense(64, activation='relu'))\n",
    "    new_model.add(layers.Dropout(0.5))\n",
    "    new_model.add(layers.Dense(16, activation='relu'))\n",
    "    new_model.add(layers.Dense(1, activation='sigmoid'))\n",
    "\n",
    "    return new_model"
   ]
  },
  {
   "cell_type": "code",
   "execution_count": null,
   "metadata": {},
   "outputs": [],
   "source": [
    "#print(\"---EVALUATE RESNET MODEL--\")\n",
    "#resnet_model = res_net(pretrained_weights=True)\n",
    "#resnet_model.summary()\n",
    "#train_and_validate_model(resnet_model, 50)\n",
    "\n",
    "print(\"---LOAD TRAINED WEIGHTS---\")\n",
    "resnet_model = res_net(pretrained_weights=False)\n",
    "resnet_model.load_weights(\"resnet_landj_bestof2_20200426.h5\")"
   ]
  },
  {
   "cell_type": "code",
   "execution_count": null,
   "metadata": {},
   "outputs": [],
   "source": [
    "#resnet_model.save_weights(\"resnet_landj_20200419.h5\")"
   ]
  },
  {
   "cell_type": "code",
   "execution_count": null,
   "metadata": {},
   "outputs": [],
   "source": [
    "def get_test_generator():\n",
    "    test_datagen = ImageDataGenerator(rescale=1./255)\n",
    "    test_generator = test_datagen.flow_from_directory(TEST_DIR, \n",
    "                                                        target_size=(TARGET_SIZE, TARGET_SIZE), \n",
    "                                                        batch_size = 1, \n",
    "                                                        shuffle = False,\n",
    "                                                        class_mode='binary')\n",
    "    return test_generator"
   ]
  },
  {
   "cell_type": "code",
   "execution_count": null,
   "metadata": {},
   "outputs": [],
   "source": [
    "test_generator = get_test_generator()"
   ]
  },
  {
   "cell_type": "code",
   "execution_count": null,
   "metadata": {},
   "outputs": [],
   "source": [
    "from sklearn.metrics import classification_report, confusion_matrix\n",
    "\n",
    "TEST_SIZE=200\n",
    "target_names = ['J', 'L']\n",
    "Y_pred = resnet_model.predict_generator(test_generator, TEST_SIZE)\n",
    "Y_pred = Y_pred.flatten()\n",
    "y_pred_class = np.where(Y_pred > 0.5, 1, 0)\n",
    "\n",
    "print('Classification Report')\n",
    "print(classification_report(test_generator.classes, y_pred_class, target_names=target_names))\n",
    "\n",
    "print('Confusion Matrix')\n",
    "plot_confusion_matrix(confusion_matrix(test_generator.classes, y_pred_class),target_names)"
   ]
  },
  {
   "cell_type": "code",
   "execution_count": null,
   "metadata": {},
   "outputs": [],
   "source": [
    "batch = next_skip(21, test_generator)\n",
    "print(\"Let us plot one prediction...\")\n",
    "view_prediction(resnet_model, batch)"
   ]
  },
  {
   "cell_type": "code",
   "execution_count": null,
   "metadata": {},
   "outputs": [],
   "source": []
  }
 ],
 "metadata": {
  "kernelspec": {
   "display_name": "Python 3",
   "language": "python",
   "name": "python3"
  },
  "language_info": {
   "codemirror_mode": {
    "name": "ipython",
    "version": 3
   },
   "file_extension": ".py",
   "mimetype": "text/x-python",
   "name": "python",
   "nbconvert_exporter": "python",
   "pygments_lexer": "ipython3",
   "version": "3.6.9"
  }
 },
 "nbformat": 4,
 "nbformat_minor": 4
}
